{
 "cells": [
  {
   "cell_type": "code",
   "execution_count": null,
   "metadata": {},
   "outputs": [],
   "source": [
    "from run import app\n",
    "\n",
    "ctx = app.app_context()\n",
    "ctx.push()"
   ]
  },
  {
   "cell_type": "code",
   "execution_count": null,
   "metadata": {},
   "outputs": [],
   "source": [
    "import urllib.request, json \n",
    "\n",
    "country_url = 'http://techslides.com/demos/country-capitals.json'\n",
    "with urllib.request.urlopen(country_url) as url:\n",
    "    data = json.loads(url.read().decode())"
   ]
  },
  {
   "cell_type": "code",
   "execution_count": null,
   "metadata": {},
   "outputs": [],
   "source": [
    "from app.api.country.models import Country\n",
    "\n",
    "for c in data:\n",
    "    country = Country.query.filter(Country.iso == c['CountryCode']).first()\n",
    "    if country:\n",
    "        country.capital_name = c['CapitalName']\n",
    "        country.capital_longitude = c['CapitalLongitude']\n",
    "        country.capital_latitude = c['CapitalLatitude']\n",
    "        country.save()"
   ]
  },
  {
   "cell_type": "code",
   "execution_count": null,
   "metadata": {},
   "outputs": [],
   "source": [
    "from app.api.product.models import Product\n",
    "\n",
    "products = Product.query.msearch('Safety laser scanners').all()\n",
    "\n",
    "for p in products:\n",
    "    print(p.model)"
   ]
  },
  {
   "cell_type": "code",
   "execution_count": null,
   "metadata": {},
   "outputs": [],
   "source": [
    "from app.api.product_category.models import ProductCategory\n",
    "from app.api.product_family.models import ProductFamily\n",
    "\n",
    "families = ProductFamily.query.all()\n",
    "print(len(families))"
   ]
  },
  {
   "cell_type": "code",
   "execution_count": null,
   "metadata": {},
   "outputs": [],
   "source": [
    "categories = []\n",
    "\n",
    "for family in families:\n",
    "    if family.category not in categories:\n",
    "        categories.append(family.category)\n",
    "\n",
    "\n",
    "print(len(categories))"
   ]
  },
  {
   "cell_type": "code",
   "execution_count": null,
   "metadata": {},
   "outputs": [],
   "source": [
    "from app.api.product_category.models import ProductCategory\n",
    "\n",
    "for catgegory in categories:\n",
    "    ProductCategory.create(name=catgegory)"
   ]
  },
  {
   "cell_type": "code",
   "execution_count": null,
   "metadata": {},
   "outputs": [],
   "source": [
    "from app.api.product_category.models import ProductCategory\n",
    "from app.api.product.models import Product\n",
    "from app import db\n",
    "\n",
    "products = Product.query.all()\n",
    "\n",
    "for product in products:\n",
    "    if product.family is not None:\n",
    "        category = ProductCategory.query.filter_by(name=product.family.category).first()\n",
    "        if category is not None:\n",
    "            product.category = category\n",
    "\n",
    "db.session.commit()"
   ]
  }
 ],
 "metadata": {
  "interpreter": {
   "hash": "92b317d26988395b019abf8adfba8bab1b16fe738a5601b0c04b943a2fa3cdec"
  },
  "kernelspec": {
   "display_name": "Python 3.9.5 64-bit ('.venv': venv)",
   "language": "python",
   "name": "python3"
  },
  "language_info": {
   "codemirror_mode": {
    "name": "ipython",
    "version": 3
   },
   "file_extension": ".py",
   "mimetype": "text/x-python",
   "name": "python",
   "nbconvert_exporter": "python",
   "pygments_lexer": "ipython3",
   "version": "3.9.5"
  },
  "orig_nbformat": 4
 },
 "nbformat": 4,
 "nbformat_minor": 2
}
