{
 "cells": [
  {
   "cell_type": "code",
   "execution_count": 10,
   "metadata": {},
   "outputs": [],
   "source": [
    "from run import app\n",
    "\n",
    "ctx = app.app_context()\n",
    "ctx.push()"
   ]
  },
  {
   "cell_type": "code",
   "execution_count": 11,
   "metadata": {},
   "outputs": [],
   "source": [
    "import urllib.request, json \n",
    "\n",
    "country_url = 'http://techslides.com/demos/country-capitals.json'\n",
    "with urllib.request.urlopen(country_url) as url:\n",
    "    data = json.loads(url.read().decode())"
   ]
  },
  {
   "cell_type": "code",
   "execution_count": 4,
   "metadata": {},
   "outputs": [],
   "source": [
    "from app.api.country.models import Country\n",
    "\n",
    "for c in data:\n",
    "    country = Country.query.filter(Country.iso == c['CountryCode']).first()\n",
    "    if country:\n",
    "        country.capital_name = c['CapitalName']\n",
    "        country.capital_longitude = c['CapitalLongitude']\n",
    "        country.capital_latitude = c['CapitalLatitude']\n",
    "        country.save()"
   ]
  },
  {
   "cell_type": "code",
   "execution_count": 16,
   "metadata": {},
   "outputs": [
    {
     "name": "stdout",
     "output_type": "stream",
     "text": [
      "LGS-N50\n"
     ]
    }
   ],
   "source": [
    "from app.api.product.models import Product\n",
    "\n",
    "products = Product.query.msearch('Safety laser scanners').all()\n",
    "\n",
    "for p in products:\n",
    "    print(p.model)"
   ]
  }
 ],
 "metadata": {
  "interpreter": {
   "hash": "92b317d26988395b019abf8adfba8bab1b16fe738a5601b0c04b943a2fa3cdec"
  },
  "kernelspec": {
   "display_name": "Python 3.9.5 64-bit ('.venv': venv)",
   "language": "python",
   "name": "python3"
  },
  "language_info": {
   "codemirror_mode": {
    "name": "ipython",
    "version": 3
   },
   "file_extension": ".py",
   "mimetype": "text/x-python",
   "name": "python",
   "nbconvert_exporter": "python",
   "pygments_lexer": "ipython3",
   "version": "3.9.5"
  },
  "orig_nbformat": 4
 },
 "nbformat": 4,
 "nbformat_minor": 2
}
